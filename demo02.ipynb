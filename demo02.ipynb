{
 "cells": [
  {
   "cell_type": "markdown",
   "metadata": {},
   "source": [
    "### 阈值分割\n",
    "\n",
    "1. 二进制阈值化（Threshold Binary; cv2.THRESH_BINARY），大于等于阈值设置为 maxval，小于阈值为0;    \n",
    "\n",
    "2. 反二进制阈值化（Threshold Binary, Inverted; cv2.THRESH_BINARY_INV），大于等于阈值为0，小于阈值为maxval;    \n",
    "\n",
    "3. 截断阈值化（Truncate; cv2.THRESH_TRUNC）大于等于阈值的像素设置为阈值。  \n",
    "\n",
    "4. 阈值化为0（Threshold to Zero）小于等于阈值像素设置为0  \n",
    "\n",
    "5. 反阈值化为0 （Threshold to Zero, Inverted）大于等于阈值的像素设置为0   \n",
    "\n",
    "\n",
    "### 图像阈值\n",
    "retval, dst = cv2.threshold(src, thresh, maxval, type)  \n",
    "src 原图像   \n",
    "thresh 阈值   \n",
    "maxval 最大值   \n",
    "type 分割类型   \n",
    "\n"
   ]
  },
  {
   "cell_type": "code",
   "execution_count": null,
   "metadata": {},
   "outputs": [
    {
     "name": "stdout",
     "output_type": "stream",
     "text": [
      "retval=128.0, thresh=128\n"
     ]
    }
   ],
   "source": [
    "import cv2\n",
    "import numpy as np\n",
    "ROOT_DIR = '/Users/lucien/cv/image/'\n",
    "\n",
    "o = cv2.imread(ROOT_DIR + \"lena512.bmp\",cv2.IMREAD_UNCHANGED)\n",
    "retval, binary = cv2.threshold(o,128,255,cv2.THRESH_BINARY)\n",
    "r, binary_inv = cv2.threshold(o,128,255,cv2.THRESH_BINARY_INV)\n",
    "r, trunc = cv2.threshold(o,128,255,cv2.THRESH_TRUNC)\n",
    "r, tozero = cv2.threshold(o,128,255,cv2.THRESH_TOZERO)\n",
    "r, tozero_inv = cv2.threshold(o,128,255,cv2.THRESH_TOZERO_INV)\n",
    "\n",
    "print('retval={}, thresh={}'.format(retval, 128))\n",
    "\n",
    "cv2.imshow(\"original\", o)\n",
    "cv2.imshow(\"binary\", binary)\n",
    "cv2.imshow(\"binary_inv\", binary_inv)\n",
    "cv2.imshow(\"trunc\", trunc)\n",
    "cv2.imshow(\"tozero\", tozero)\n",
    "cv2.imshow(\"tozero_inv\", tozero_inv)\n",
    "\n",
    "cv2.waitKey()\n",
    "cv2.destroyAllWindows()"
   ]
  },
  {
   "cell_type": "markdown",
   "metadata": {},
   "source": [
    "### 图像平滑处理\n",
    "包括均值滤波，方框滤波，高斯滤波，中值滤波等。\n",
    "\n",
    "\n",
    "### 均值滤波   \n",
    "任意一点的像素值，都是周围N*N   \n",
    "语法：dst = cv2.blur(原始图像，核大小)   "
   ]
  },
  {
   "cell_type": "code",
   "execution_count": null,
   "metadata": {},
   "outputs": [],
   "source": []
  },
  {
   "cell_type": "code",
   "execution_count": null,
   "metadata": {},
   "outputs": [],
   "source": [
    "import cv2\n",
    "import numpy as np\n",
    "ROOT_DIR = '/Users/lucien/cv/image/'\n",
    "\n",
    "o = cv2.imread(ROOT_DIR + \"lenacolor.png\",cv2.IMREAD_UNCHANGED)\n",
    "dst = cv2.blur(o, (5,5))\n",
    "cv2.imshow(\"original\", o)\n",
    "cv2.imshow(\"blur\", dst)\n",
    "\n",
    "cv2.waitKey()\n",
    "cv2.destroyAllWindows()"
   ]
  },
  {
   "cell_type": "markdown",
   "metadata": {},
   "source": [
    "### 方框滤波\n",
    "语法：dst = cv2.boxFilter(原始图像，目标图像深度，核大小，normalize)   \n",
    "param: 目标图像深度：int类型的目标图像深度。通常使用“-1”表示与原始图像一致。    \n",
    "param: normalize：是否进行归一化处理, 默认为true      \n",
    "normalize = true  方框滤波等同于均值滤波（核中所有像素和再取均值）   \n",
    "normalize = false 核中所有像素的和   "
   ]
  },
  {
   "cell_type": "code",
   "execution_count": null,
   "metadata": {},
   "outputs": [],
   "source": [
    "import cv2\n",
    "import numpy as np\n",
    "ROOT_DIR = '/Users/lucien/cv/image/'\n",
    "\n",
    "o = cv2.imread(ROOT_DIR + \"lenaNoise.png\")\n",
    "dst = cv2.boxFilter(o, -1, (5,5), normalize=1)\n",
    "cv2.imshow(\"original\", o)\n",
    "cv2.imshow(\"boxFilter\", dst)\n",
    "\n",
    "cv2.waitKey()\n",
    "cv2.destroyAllWindows()"
   ]
  },
  {
   "cell_type": "markdown",
   "metadata": {},
   "source": [
    "### 高斯滤波\n",
    "#### 让临近的像素具有更高的重要度。对周围像素计算加权平均值，较近的像素具有较大的权重值。\n",
    "语法：dst = GaussianBlur(src, ksize, sigmaX)   \n",
    "param: src 原始图像   \n",
    "param: ksize 核大小   \n",
    "param: sigmaX: X方向方差，控制权重（**）   \n",
    "sigmaX=0 时， sigma = 0.3*((ksize-1)*0.5 - 1) + 0.8   \n"
   ]
  },
  {
   "cell_type": "code",
   "execution_count": null,
   "metadata": {},
   "outputs": [],
   "source": [
    "import cv2\n",
    "import numpy as np\n",
    "ROOT_DIR = '/Users/lucien/cv/image/'\n",
    "\n",
    "o = cv2.imread(ROOT_DIR + \"lenaNoise.png\")\n",
    "r = cv2.GaussianBlur(o, (3,3), 0)\n",
    "cv2.imshow(\"original\",o)\n",
    "cv2.imshow(\"GaussianBlur\", r)\n",
    "\n",
    "cv2.waitKey()\n",
    "cv2.destroyAllWindows()"
   ]
  },
  {
   "cell_type": "markdown",
   "metadata": {},
   "source": [
    "### 中值滤波\n",
    "#### 让临近的像素按照大小进行排序，取排序像素集合中位于中间位置的值作为中值滤波后的像素值\n",
    "语法：dst = cv2.medianBlur(src, ksize)   \n",
    "param: ksize: 核大小，必须是比1大的奇数，如3，5，7等。ksize越大图像可能会越模糊。   "
   ]
  },
  {
   "cell_type": "code",
   "execution_count": null,
   "metadata": {},
   "outputs": [],
   "source": [
    "import cv2\n",
    "import numpy as np\n",
    "ROOT_DIR = '/Users/lucien/cv/image/'\n",
    "\n",
    "o = cv2.imread(ROOT_DIR + \"lenaNoise.png\")\n",
    "r = cv2.medianBlur(o, 3)\n",
    "cv2.imshow(\"original\",o)\n",
    "cv2.imshow(\"medianBlur\", r)\n",
    "\n",
    "cv2.waitKey()\n",
    "cv2.destroyAllWindows()"
   ]
  },
  {
   "cell_type": "markdown",
   "metadata": {},
   "source": [
    "### 形态学转换\n",
    "#### 基础\n",
    "1. 形态学转换主要针对的是二值图像。\n",
    "2. 两个输入对象。 对象1：二值图像；对象2：卷积核 \n",
    "\n",
    "### 图像腐蚀\n",
    "作用：图像被腐蚀后，去除了噪声，但是会压缩图像。   \n",
    "原理：对一个二值图像的前景色的边缘进行腐蚀，被卷积核扫描到的原始图像中的像素点，只有当卷积核对应的元素值均为1时，其值才为1，否则为0。    \n",
    "语法：dst = cv2.erode(src, kernel, iterations)   \n",
    "kernel: 卷积核， 例如：kernel = np.ones((5,5), np.uint8)   \n",
    "iterations: 腐蚀操作的次数，默认值为1   \n"
   ]
  },
  {
   "cell_type": "code",
   "execution_count": null,
   "metadata": {},
   "outputs": [],
   "source": [
    "import cv2\n",
    "import numpy as np\n",
    "ROOT_DIR = '/Users/lucien/cv/image/'\n",
    "\n",
    "o = cv2.imread(ROOT_DIR + \"erode.bmp\", cv2.IMREAD_UNCHANGED)\n",
    "kernel = np.ones((5,5), np.uint8)\n",
    "r = cv2.erode(o, kernel, 9)\n",
    "cv2.imshow(\"original\",o)\n",
    "cv2.imshow(\"erode\", r)\n",
    "\n",
    "cv2.waitKey()\n",
    "cv2.destroyAllWindows()"
   ]
  },
  {
   "cell_type": "markdown",
   "metadata": {},
   "source": [
    "### 图像膨胀 - 腐蚀操作的逆操作\n",
    "作用：对腐蚀过的图像，进行膨胀处理，可以去除噪声且保持原有形状。   \n",
    "原理：被卷积核扫描到的原始图像中的像素点，只要卷积核中有任一元素值为1时，其值才为1，否则为0。   \n",
    "语法：dst = cv2.dilate(src, kernel, iterations)   "
   ]
  },
  {
   "cell_type": "code",
   "execution_count": null,
   "metadata": {},
   "outputs": [],
   "source": [
    "import cv2\n",
    "import numpy as np\n",
    "ROOT_DIR = '/Users/lucien/cv/image/'\n",
    "\n",
    "o = cv2.imread(ROOT_DIR + \"erode.bmp\", cv2.IMREAD_UNCHANGED)\n",
    "kernel = np.ones((10,10), np.uint8)\n",
    "\n",
    "# 通过一组腐蚀、膨胀操作进行去噪\n",
    "erode = cv2.erode(o, kernel, 9)  # 腐蚀操作\n",
    "dilate = cv2.dilate(erode, kernel, 9) # 膨胀操作\n",
    "cv2.imshow(\"original\",o)\n",
    "cv2.imshow(\"erode\",erode)\n",
    "cv2.imshow(\"dilate\", dilate)\n",
    "\n",
    "cv2.waitKey()\n",
    "cv2.destroyAllWindows()"
   ]
  },
  {
   "cell_type": "markdown",
   "metadata": {},
   "source": [
    "### 图像开运算\n",
    "作用：先腐蚀，后膨胀（它有助于去除前景物体边缘及外部的噪声）。    \n",
    "开运算（image） = 膨胀（腐蚀（image））    \n",
    "语法：dst = cv2.morphologyEx(o, cv2.MORPH_OPEN, kernel)    \n",
    "\n",
    "注意：通过适当扩大卷积核，可以让噪声去除更彻底。但是开运算是先腐蚀后膨胀，过大的卷积核很可能在腐蚀操作中将原图中前景物体全部或局部腐蚀掉，导致膨胀操作无法恢复到原图的形状。"
   ]
  },
  {
   "cell_type": "code",
   "execution_count": null,
   "metadata": {},
   "outputs": [],
   "source": [
    "import cv2\n",
    "import numpy as np\n",
    "ROOT_DIR = '/Users/lucien/cv/image/'\n",
    "\n",
    "o = cv2.imread(ROOT_DIR + \"opening.bmp\", cv2.IMREAD_UNCHANGED)\n",
    "# kernel = np.ones((5,5), np.uint8)  \n",
    "kernel = np.ones((10,10), np.uint8)  # 通过适当扩大卷积核，可以让噪音去除更彻底。\n",
    "r = cv2.morphologyEx(o, cv2.MORPH_OPEN, kernel)\n",
    "cv2.imshow(\"original\",o)\n",
    "cv2.imshow(\"OPEN\", r)\n",
    "\n",
    "cv2.waitKey()\n",
    "cv2.destroyAllWindows()"
   ]
  },
  {
   "cell_type": "markdown",
   "metadata": {},
   "source": [
    "### 图像闭运算\n",
    "作用：先膨胀，后腐蚀（它有助于去除前景物体内部的噪声）    \n",
    "语法：dst = cv2.morphologyEx(o, cv2.MORPH_CLOSE, kernel)    "
   ]
  },
  {
   "cell_type": "code",
   "execution_count": null,
   "metadata": {},
   "outputs": [],
   "source": [
    "import cv2\n",
    "import numpy as np\n",
    "ROOT_DIR = '/Users/lucien/cv/image/'\n",
    "\n",
    "o = cv2.imread(ROOT_DIR + \"closing.bmp\", cv2.IMREAD_UNCHANGED)\n",
    "# kernel = np.ones((5,5), np.uint8)  \n",
    "kernel = np.ones((10,10), np.uint8)  # 通过适当扩大卷积核，可以让噪音去除更彻底。\n",
    "r = cv2.morphologyEx(o, cv2.MORPH_CLOSE, kernel)\n",
    "cv2.imshow(\"original\",o)\n",
    "cv2.imshow(\"CLOSE\", r)\n",
    "\n",
    "cv2.waitKey()\n",
    "cv2.destroyAllWindows()"
   ]
  },
  {
   "cell_type": "markdown",
   "metadata": {},
   "source": [
    "### 梯度运算 - 获取前景物体轮廓  \n",
    "轮廓图像 = 膨胀图像 - 腐蚀图像   \n",
    "梯度（image）= 膨胀（image）- 腐蚀（image）     \n",
    "语法：result = cv2.morphologyEx(img, cv2.MORPH_GRADIENT, kernel)   "
   ]
  },
  {
   "cell_type": "code",
   "execution_count": null,
   "metadata": {},
   "outputs": [],
   "source": [
    "import cv2\n",
    "import numpy as np\n",
    "ROOT_DIR = '/Users/lucien/cv/image/'\n",
    "\n",
    "o = cv2.imread(ROOT_DIR + \"gradient.bmp\", cv2.IMREAD_UNCHANGED) \n",
    "kernel = np.ones((10,10), np.uint8)  \n",
    "r = cv2.morphologyEx(o, cv2.MORPH_GRADIENT, kernel)\n",
    "cv2.imshow(\"original\",o)\n",
    "cv2.imshow(\"GRADIENT\", r)\n",
    "\n",
    "cv2.waitKey()\n",
    "cv2.destroyAllWindows()"
   ]
  },
  {
   "cell_type": "markdown",
   "metadata": {},
   "source": [
    "### 礼帽操作 - 获取噪声图像\n",
    "礼帽图像 = 原始图像 - 开运算图像    \n",
    "语法：result = cv2.morphologyEx(img, cv2.MORPH_TOPHAT, kernel)   \n"
   ]
  },
  {
   "cell_type": "code",
   "execution_count": null,
   "metadata": {},
   "outputs": [],
   "source": [
    "import cv2\n",
    "import numpy as np\n",
    "ROOT_DIR = '/Users/lucien/cv/image/'\n",
    "\n",
    "o = cv2.imread(ROOT_DIR + \"tophat.bmp\", cv2.IMREAD_UNCHANGED) \n",
    "kernel = np.ones((5,5), np.uint8)\n",
    "r = cv2.morphologyEx(o, cv2.MORPH_TOPHAT, kernel)\n",
    "cv2.imshow(\"original\",o)\n",
    "cv2.imshow(\"TOPHAT\", r)\n",
    "\n",
    "cv2.waitKey()\n",
    "cv2.destroyAllWindows()"
   ]
  },
  {
   "cell_type": "markdown",
   "metadata": {},
   "source": [
    "### 黑帽操作 - 获取噪声图像\n",
    "黑帽操作 = 闭运算图像 - 原始图像    \n",
    "语法：result = cv2.morphologyEx(img, cv2.MORPH_BLACKHAT, kernel)   "
   ]
  },
  {
   "cell_type": "code",
   "execution_count": null,
   "metadata": {},
   "outputs": [],
   "source": [
    "import cv2\n",
    "import numpy as np\n",
    "ROOT_DIR = '/Users/lucien/cv/image/'\n",
    "\n",
    "o = cv2.imread(ROOT_DIR + \"blackhat.bmp\", cv2.IMREAD_UNCHANGED) \n",
    "kernel = np.ones((10,10), np.uint8)\n",
    "r = cv2.morphologyEx(o, cv2.MORPH_BLACKHAT, kernel)\n",
    "cv2.imshow(\"original\",o)\n",
    "cv2.imshow(\"BLACKHAT\", r)\n",
    "\n",
    "cv2.waitKey()\n",
    "cv2.destroyAllWindows()"
   ]
  },
  {
   "cell_type": "markdown",
   "metadata": {},
   "source": [
    "### 图像梯度\n",
    "\n",
    "### Sobel算子\n",
    "计算不同方向的梯度\n",
    "语法：dst = cv2.Sobel(src, ddepth, dx, dy, [ksize])\n",
    "\n",
    "param: ddepth ,结果图像深度，当设置为-1时，使用与原始图像相同的数据类型保存结果图像。    \n",
    "实际操作中，计算梯度值可能会出现负数。通常处理的图像是np.uint8类型（只能表示0-255），如果结果图像以np.uint8类型保存，所有负数会自动截断为0，发生信息丢失。   \n",
    "所以，通常计算时，使用更高的数据类型 cv2.CV_64F 保存结果图像，取绝对值之后，再转换为 np.uint8（cv2.CV_8U）类型。   \n",
    "\n",
    "dst = cv2.convertScaleAbs(src [, alpha [, beta]])   \n",
    "作用：将原始图像 src 转换为256色位图（即对存在负数像素值的点取绝对值）。   \n",
    "\n",
    "param:    \n",
    "dx， X轴方向   \n",
    "dy， Y轴方向   \n",
    "计算X方向梯度：【dx=1, dy=0】   \n",
    "计算Y方向梯度：【dx=0, dy=1】   \n",
    "\n",
    "param: ksize 核大小，默认是3   \n",
    "\n",
    "计算sobel结果的两种方式：     \n",
    "方式1，通过设置 dx=1,dy=1,同时求两个方向上的梯度（错误，此种方法不能准确获得两个方向梯度）   \n",
    "dst = cv2.Sobel(src, ddepth, 1,1)   \n",
    "方式2，分别计算X方向梯度(dx)和Y方向梯度(dy)后再相加（正确）   \n",
    "dx = cv2.Sobel(src, ddepth, 1, 0)   \n",
    "dy = cv2.Sobel(src, ddepth, 0, 1)     \n",
    "dst = dx* 系数1 + dy*系数2 （通过cv2.addWeighted(src1, alpha, src2, beta, gamma修正值)进行图像融合）    \n"
   ]
  },
  {
   "cell_type": "code",
   "execution_count": null,
   "metadata": {},
   "outputs": [],
   "source": [
    "import cv2\n",
    "import numpy as np\n",
    "ROOT_DIR = '/Users/lucien/cv/image/'\n",
    "\n",
    "# o = cv2.imread(ROOT_DIR + \"sobel.bmp\", cv2.IMREAD_GRAYSCALE) #灰度形式导入 \n",
    "o = cv2.imread(ROOT_DIR + \"lena.bmp\", cv2.IMREAD_GRAYSCALE) #灰度形式导入 \n",
    "\n",
    "# 计算X方向梯度\n",
    "sobel_x = cv2.Sobel(o, cv2.CV_64F, 1, 0)  # 对于ddepth参数，使用cv2.CV_64F来保存负数，否则会丢失部分边界。\n",
    "sobel_x = cv2.convertScaleAbs(sobel_x)    # 对负数像素值取绝对值,数据类型转回 np.uint8\n",
    "# 计算Y方向梯度\n",
    "sobel_y = cv2.Sobel(o, cv2.CV_64F, 0, 1)  \n",
    "sobel_y = cv2.convertScaleAbs(sobel_y)\n",
    "# 同时计算X轴和Y轴两个方向的梯度（正确）\n",
    "sobel_x_y = cv2.addWeighted(sobel_x, 0.5, sobel_y, 0.5, 0)\n",
    "# 以下为错误计算X轴和Y轴两个方向的梯度，可以看到，这种方法的计算结果很不理想。\n",
    "sobel_x_y_wrong = cv2.Sobel(o, cv2.CV_64F, 1, 1)\n",
    "sobel_x_y_wrong = cv2.convertScaleAbs(sobel_x_y_wrong)                            \n",
    "\n",
    "cv2.imshow(\"original\",o)\n",
    "cv2.imshow(\"sobel_x\", sobel_x)\n",
    "cv2.imshow(\"sobel_y\", sobel_y)\n",
    "cv2.imshow(\"sobel_x_y\", sobel_x_y)\n",
    "cv2.imshow(\"sobel_x_y_wrong\", sobel_x_y_wrong)                            \n",
    "                        \n",
    "cv2.waitKey()\n",
    "cv2.destroyAllWindows()"
   ]
  },
  {
   "cell_type": "markdown",
   "metadata": {},
   "source": [
    "### scharr 算子 \n",
    "是一种改进的Sobel算子，相对于sobel算子能够计算到更小的边界梯度变化。两者的计算原理和复杂度完全相同，只是卷积核中的系数不同。    \n",
    "语法：dst = cv2.Scharr(src, ddepth, dx, dy) 等价于 cv2.Sobel(src, ddepth, dx, dy, -1)\n",
    "\n",
    "param: dx, dy, 要求：dx>=0 && dy>=0 && dx+dy == 1, 即 dx, dy 不能同时设置为1   \n"
   ]
  },
  {
   "cell_type": "code",
   "execution_count": null,
   "metadata": {},
   "outputs": [],
   "source": [
    "import cv2\n",
    "import numpy as np\n",
    "ROOT_DIR = '/Users/lucien/cv/image/'\n",
    "\n",
    "# o = cv2.imread(ROOT_DIR + \"scharr.bmp\", cv2.IMREAD_GRAYSCALE) #灰度形式导入 \n",
    "o = cv2.imread(ROOT_DIR + \"lena.bmp\", cv2.IMREAD_GRAYSCALE) #灰度形式导入 \n",
    "\n",
    "# 计算X方向梯度\n",
    "scharr_x = cv2.Scharr(o, cv2.CV_64F, 1, 0)  # 对于ddepth参数，使用cv2.CV_64F来保存负数，否则会丢失部分边界。\n",
    "scharr_x = cv2.convertScaleAbs(scharr_x)    # 对负数像素值取绝对值\n",
    "# 计算Y方向梯度\n",
    "scharr_y = cv2.Scharr(o, cv2.CV_64F, 0, 1)\n",
    "scharr_y = cv2.convertScaleAbs(scharr_y)\n",
    "\n",
    "# 同时计算X轴和Y轴两个方向的梯度（正确）\n",
    "scharr_x_y = cv2.addWeighted(scharr_x, 0.5, scharr_y, 0.5, 0)                        \n",
    "\n",
    "cv2.imshow(\"original\",o)\n",
    "cv2.imshow(\"scharr_x\", scharr_x)\n",
    "cv2.imshow(\"scharr_y\", scharr_y)\n",
    "cv2.imshow(\"scharr_x_y\", scharr_x_y)                        \n",
    "                        \n",
    "cv2.waitKey()\n",
    "cv2.destroyAllWindows()"
   ]
  },
  {
   "attachments": {},
   "cell_type": "markdown",
   "metadata": {},
   "source": [
    "### Laplacian 算子\n",
    "拉普拉斯算子类似于二阶sobel导数。实际上，在 OpenCV 中通过调用 sobel 算子来计算拉普拉斯算子。   \n",
    "语法：dst = cv2.Laplacian(src, ddepth)"
   ]
  },
  {
   "cell_type": "code",
   "execution_count": null,
   "metadata": {},
   "outputs": [],
   "source": [
    "import cv2\n",
    "import numpy as np\n",
    "ROOT_DIR = '/Users/lucien/cv/image/'\n",
    "\n",
    "# o = cv2.imread(ROOT_DIR + \"laplacian.bmp\", cv2.IMREAD_UNCHANGED) #灰度形式导入 \n",
    "o = cv2.imread(ROOT_DIR + \"lena.bmp\", cv2.IMREAD_UNCHANGED) #灰度形式导入 \n",
    "\n",
    "laplacian = cv2.Laplacian(o, cv2.CV_64F)\n",
    "laplacian = cv2.convertScaleAbs(laplacian)\n",
    "cv2.imshow(\"original\",o)\n",
    "cv2.imshow(\"laplacian\", laplacian)\n",
    "\n",
    "cv2.waitKey()\n",
    "cv2.destroyAllWindows()"
   ]
  },
  {
   "cell_type": "markdown",
   "metadata": {},
   "source": [
    "### Canny边缘检测\n",
    "原理：\n",
    "1. 去噪\n",
    "2. 梯度，大小和方向\n",
    "3. 非极大值抑制\n",
    "4. 滞后阈值\n",
    "语法: edges = cv2.Canny(image, threshold1, threshold2)   \n",
    "threshold1: minVal阈值1，极小值   \n",
    "threshold2: maxVal阈值2，极大值   \n",
    "两个阈值越小，边界信息越丰富（即更多边界信息被保留下来）。   "
   ]
  },
  {
   "cell_type": "code",
   "execution_count": null,
   "metadata": {},
   "outputs": [],
   "source": [
    "import cv2\n",
    "import numpy as np\n",
    "ROOT_DIR = '/Users/lucien/cv/image/'\n",
    "\n",
    "# o = cv2.imread(ROOT_DIR + \"canny.bmp\", cv2.IMREAD_GRAYSCALE) #灰度形式导入 \n",
    "o = cv2.imread(ROOT_DIR + \"lena.bmp\", cv2.IMREAD_GRAYSCALE) #灰度形式导入 \n",
    "\n",
    "r = cv2.Canny(o,100,200)\n",
    "r2 = cv2.Canny(o,64,128)  \n",
    "\n",
    "cv2.imshow(\"original\",o)\n",
    "cv2.imshow(\"canny\", r)\n",
    "cv2.imshow(\"canny2\", r2)\n",
    "\n",
    "cv2.waitKey()\n",
    "cv2.destroyAllWindows()"
   ]
  },
  {
   "cell_type": "markdown",
   "metadata": {},
   "source": [
    "### 图像金字塔\n",
    "同一图像的不同分辨率的子图集合\n",
    "金字塔的构成：\n",
    "向下取样，从大图像不断得到小图像，图像尺度逐渐变小\n",
    "向上取样，从小图像不断得到大图像，图像尺度逐渐变大"
   ]
  },
  {
   "cell_type": "code",
   "execution_count": null,
   "metadata": {},
   "outputs": [],
   "source": []
  }
 ],
 "metadata": {
  "kernelspec": {
   "display_name": "Python 3",
   "language": "python",
   "name": "python3"
  },
  "language_info": {
   "codemirror_mode": {
    "name": "ipython",
    "version": 3
   },
   "file_extension": ".py",
   "mimetype": "text/x-python",
   "name": "python",
   "nbconvert_exporter": "python",
   "pygments_lexer": "ipython3",
   "version": "3.6.7"
  }
 },
 "nbformat": 4,
 "nbformat_minor": 2
}
