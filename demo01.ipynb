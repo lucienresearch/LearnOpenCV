{
 "cells": [
  {
   "cell_type": "code",
   "execution_count": 1,
   "metadata": {},
   "outputs": [],
   "source": [
    "import cv2\n",
    "import numpy as np\n",
    "ROOT_DIR = '/Users/lucien/cv/image/'"
   ]
  },
  {
   "cell_type": "code",
   "execution_count": null,
   "metadata": {},
   "outputs": [],
   "source": [
    "img = cv2.imread(ROOT_DIR + \"test.png\")\n",
    "cv2.imshow(\"win1\", img)\n",
    "cv2.waitKey(0)\n",
    "cv2.destroyAllWindows()\n",
    "cv2.imwrite(ROOT_DIR + 'test2.png', img)"
   ]
  },
  {
   "cell_type": "code",
   "execution_count": null,
   "metadata": {},
   "outputs": [],
   "source": [
    "# 读取像素\n",
    "#图像的分类： 二值图像，灰度图像， 彩色图像\n",
    "# 在OpenCV 中，RGB三原色的通道顺序是 BGR(蓝绿红)\n",
    "# blue = img[8,22,0]  # 0通道存储Blue\n",
    "# green = img[8,22,1] # 1通道存储Green\n",
    "# red = img[8,22,2]   # 2通道存储Red\n",
    "\n",
    "# img_gray = cv2.imread(ROOT_DIR + \"image/lena256.bmp\", cv2.IMREAD_UNCHANGED)\n",
    "# print(img_gray[100,100])\n",
    "\n",
    "img = cv2.imread(ROOT_DIR + \"lenacolor.png\", cv2.IMREAD_UNCHANGED)\n",
    "print(img[100,100])\n",
    "cv2.imshow(\"win1\", img)\n",
    "img[100:150,100:200] = [0,0,255]  #可以使用切片批量修改像素值\n",
    "cv2.imshow(\"win2\", img)\n",
    "cv2.waitKey(0)\n",
    "cv2.destroyAllWindows()\n"
   ]
  },
  {
   "cell_type": "code",
   "execution_count": 2,
   "metadata": {},
   "outputs": [
    {
     "name": "stdout",
     "output_type": "stream",
     "text": [
      "73\n",
      "255\n",
      "78\n",
      "255\n"
     ]
    }
   ],
   "source": [
    "# 使用 Numpy 读取像素值\n",
    "\n",
    "# 读取灰度图像像素值，单通道\n",
    "img = cv2.imread(ROOT_DIR + \"lena256.bmp\", cv2.IMREAD_UNCHANGED)\n",
    "print(img.item(100,100))\n",
    "img.itemset((100,100),255)\n",
    "print(img.item(100,100))\n",
    "\n",
    "# 读取彩色图像像素值，三通道BGR\n",
    "img = cv2.imread(ROOT_DIR + \"lenacolor.png\", cv2.IMREAD_UNCHANGED)\n",
    "print(img.item(100,100,0))\n",
    "img.itemset((100,100,0),255)\n",
    "print(img.item(100,100,0))\n",
    "\n"
   ]
  },
  {
   "cell_type": "code",
   "execution_count": 3,
   "metadata": {},
   "outputs": [
    {
     "name": "stdout",
     "output_type": "stream",
     "text": [
      "(256, 256)\n",
      "(512, 512, 3)\n",
      "65536\n",
      "786432\n",
      "uint8\n",
      "uint8\n"
     ]
    }
   ],
   "source": [
    "# 获取图像属性\n",
    "# 1. shape 获取图像的形状，返回（行数，列数，通道数）元组\n",
    "# 2. size 获取图像的像素 行数 * 列数 * 通道数\n",
    "# 3. dtype 获取图像的像素点数据类型\n",
    "\n",
    "# 读取灰度图像像素值，单通道\n",
    "a = cv2.imread(ROOT_DIR + \"lena256.bmp\", cv2.IMREAD_UNCHANGED)\n",
    "# 读取彩色图像像素值，三通道BGR\n",
    "b = cv2.imread(ROOT_DIR + \"lenacolor.png\", cv2.IMREAD_UNCHANGED)\n",
    "print(a.shape)\n",
    "print(b.shape)\n",
    "print(a.size)\n",
    "print(b.size)\n",
    "print(a.dtype)\n",
    "print(b.dtype)\n",
    "\n"
   ]
  },
  {
   "cell_type": "code",
   "execution_count": null,
   "metadata": {},
   "outputs": [
    {
     "name": "stdout",
     "output_type": "stream",
     "text": [
      "face.shape (180, 100, 3)\n"
     ]
    }
   ],
   "source": [
    "# 图像ROI\n",
    "# ROI（region of interest）, 感兴趣区域\n",
    "# 从被处理的图像以方框、圆、椭圆、不规则多边形等方式勾勒出需要处理的区域\n",
    "# 可以通过各种算子（Operator）和函数来求得感兴趣区域ROI，并进行图像的下一步处理\n",
    "\n",
    "# 读取彩色图像像素值，三通道BGR\n",
    "a = cv2.imread(ROOT_DIR + \"lenacolor.png\", cv2.IMREAD_UNCHANGED)\n",
    "b = cv2.imread(ROOT_DIR + \"girl.bmp\", cv2.IMREAD_UNCHANGED)\n",
    "# face = np.ones((101,101,3))   # 经测试，通过np.ones对face进行初始化毫无意义\n",
    "# print('face.shape',face.shape)\n",
    "cv2.imshow(\"originalA\",a)\n",
    "cv2.imshow(\"originalB\",b)\n",
    "face = a[220:400, 250:350]\n",
    "print('face.shape',face.shape)\n",
    "b[0:180, 0:100] = face\n",
    "cv2.imshow(\"resultB\",b)\n",
    "\n",
    "cv2.waitKey(0)\n",
    "cv2.destroyAllWindows()\n"
   ]
  },
  {
   "cell_type": "code",
   "execution_count": null,
   "metadata": {},
   "outputs": [],
   "source": [
    "# 通道的拆分与合并 - split函数 - merge函数\n",
    "# 1. 拆分通道\n",
    "\n",
    "# 读取彩色图像像素值，三通道BGR\n",
    "a = cv2.imread(ROOT_DIR + \"lenacolor.png\")\n",
    "b,g,r = cv2.split(a)\n",
    "cv2.imshow(\"original\",a)\n",
    "cv2.imshow(\"B\",b)\n",
    "cv2.imshow(\"G\",g)\n",
    "cv2.imshow(\"R\",r)\n",
    "m = cv2.merge([b,g,r]) # 主要合并时通道的顺序一定要正确\n",
    "cv2.imshow(\"merge\",m)\n",
    "\n",
    "cv2.waitKey()\n",
    "cv2.destroyAllWindows()\n",
    "\n"
   ]
  },
  {
   "cell_type": "code",
   "execution_count": null,
   "metadata": {},
   "outputs": [],
   "source": [
    "# 图像加法运算\n",
    "# 条件：参与运算的两个图像的 size 和 dtype 必须完全一致。\n",
    "\n",
    "# 1. Numpy 加法，取模加法\n",
    "# result = image1 + image2\n",
    "# result = result % 255     # 当结果大于255时，返回255的模\n",
    "\n",
    "# 2. OpenCV 加法，饱和运算\n",
    "# result = image1 + image2\n",
    "# result = min(result, 255) # 当结果大于255时，始终返回255\n",
    "\n",
    "两种加法\n",
    "\n",
    "# 读取灰度图像像素值，单通道\n",
    "a = cv2.imread(ROOT_DIR + \"lena256.bmp\", cv2.IMREAD_UNCHANGED)\n",
    "b = a\n",
    "np_add = a + b\n",
    "cv_add = cv2.add(a,b)\n",
    "cv2.imshow(\"original\", a)\n",
    "cv2.imshow(\"np_add\", np_add)\n",
    "cv2.imshow(\"cv_add\", cv_add)\n",
    "\n",
    "cv2.waitKey()\n",
    "cv2.destroyAllWindows()\n",
    "\n"
   ]
  },
  {
   "cell_type": "code",
   "execution_count": null,
   "metadata": {},
   "outputs": [],
   "source": [
    "# 图像融合 - addWeighted函数\n",
    "\n",
    "# 图像加法：结果图像 = 图像1 + 图像2\n",
    "# 图像融合：结果图像 = 图像1*权重1 + 图像2*权重2 + 亮度调节量\n",
    "# 语法：result = cv2.addWeighted(img1,weight1,img2,weight2,亮度) （取值范围：？？）\n",
    "\n",
    "a = cv2.imread(ROOT_DIR + \"add/boat.bmp\")\n",
    "b = cv2.imread(ROOT_DIR+\"add/lena.bmp\")\n",
    "result = cv2.addWeighted(a,0.3,b,1,0)\n",
    "cv2.imshow(\"a\",a)\n",
    "cv2.imshow(\"b\",b)\n",
    "cv2.imshow(\"result\",result)\n",
    "\n",
    "cv2.waitKey()\n",
    "cv2.destroyAllWindows()\n"
   ]
  },
  {
   "cell_type": "code",
   "execution_count": null,
   "metadata": {},
   "outputs": [],
   "source": [
    "# 图像类型转换 - cvtColor 函数\n",
    "# OpenCV提供了200多种不同的类型转换\n",
    "\n",
    "a = cv2.imread(ROOT_DIR + \"lenacolor.png\")\n",
    "b = cv2.cvtColor(a, cv2.COLOR_BGR2GRAY)\n",
    "c = cv2.cvtColor(a, cv2.COLOR_BGR2RGB)\n",
    "cv2.imshow(\"lenacolor\",a)\n",
    "cv2.imshow(\"COLOR_BGR2GRAY\",b)\n",
    "cv2.imshow(\"COLOR_BGR2RGB\",c)\n",
    "\n",
    "cv2.waitKey()\n",
    "cv2.destroyAllWindows()\n"
   ]
  },
  {
   "cell_type": "code",
   "execution_count": null,
   "metadata": {},
   "outputs": [],
   "source": [
    "# 图像缩放 - resize函数\n",
    "# 语法：dst = cv2.resize(src, dsize, fx, fy)\n",
    "# param: dsize （列数，行数）元组，将原图像 src 转换位具体的像素大小。\n",
    "# param: fx, fy 分别表示在水平方向和垂直方向上的缩放比例\n",
    "# Note: \n",
    "# 1. dsize（列数，行数）元组，列数在前，行数在后\n",
    "# 2. dsize 和 fx,fy 参数任选其一即可\n",
    "    \n",
    "a = cv2.imread(ROOT_DIR + \"lenacolor.png\")\n",
    "b = cv2.resize(a, (300,100))  # 缩放到 300列，100行的图像，注意，300列构成了图像的宽度，100行构成了图像的高度。\n",
    "c = cv2.resize(a, None, fx=1, fy=0.3) # dsize为None时，dsize = (round(fx*src.cols), round(fy*src.rows))\n",
    "\n",
    "cv2.imshow(\"a\",a)\n",
    "cv2.imshow(\"resize_dsize\",b)\n",
    "cv2.imshow(\"resize_fx_fy\",c)\n",
    "\n",
    "cv2.waitKey()\n",
    "cv2.destroyAllWindows()\n"
   ]
  },
  {
   "cell_type": "code",
   "execution_count": null,
   "metadata": {},
   "outputs": [],
   "source": [
    "# 图像翻转 - flip函数\n",
    "# 语法： dst = cv2.flip(src, flipCode)\n",
    "# param: \n",
    "# flipCode>0 时以Y轴为对称轴进行翻转，\n",
    "# flipCode=0 时以X轴为对称轴进行翻转（相当于原图旋转180度后，以Y轴进行翻转）\n",
    "# flipCode<0 时在X轴、Y轴同时翻转  （相当于原图旋转180度）\n",
    "a = cv2.imread(ROOT_DIR + \"lenacolor.png\")\n",
    "b = cv2.flip(a,0)\n",
    "c = cv2.flip(a,1)\n",
    "d = cv2.flip(a,-1)\n",
    "cv2.imshow(\"original\",a)\n",
    "cv2.imshow(\"flip_X\",b)\n",
    "cv2.imshow(\"flip_Y\",c)\n",
    "cv2.imshow(\"flip_X_Y\",d)\n",
    "\n",
    "cv2.waitKey()\n",
    "cv2.destroyAllWindows()"
   ]
  },
  {
   "cell_type": "code",
   "execution_count": null,
   "metadata": {},
   "outputs": [],
   "source": []
  }
 ],
 "metadata": {
  "kernelspec": {
   "display_name": "Python 3",
   "language": "python",
   "name": "python3"
  },
  "language_info": {
   "codemirror_mode": {
    "name": "ipython",
    "version": 3
   },
   "file_extension": ".py",
   "mimetype": "text/x-python",
   "name": "python",
   "nbconvert_exporter": "python",
   "pygments_lexer": "ipython3",
   "version": "3.6.7"
  }
 },
 "nbformat": 4,
 "nbformat_minor": 2
}
